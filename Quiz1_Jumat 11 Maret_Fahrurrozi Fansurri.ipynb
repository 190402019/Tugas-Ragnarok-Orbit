{
  "nbformat": 4,
  "nbformat_minor": 0,
  "metadata": {
    "colab": {
      "name": "Quiz 1_Jumat 11 Maret_Fahrurrozi Fansurri.ipynb",
      "provenance": []
    },
    "kernelspec": {
      "name": "python3",
      "display_name": "Python 3"
    },
    "language_info": {
      "name": "python"
    }
  },
  "cells": [
    {
      "cell_type": "markdown",
      "source": [
        "Pyhton OOP\n",
        "1. Apa itu OOP dan cobalah buat 2 implementasi konsep OOP menggunakan python!\n",
        "\n",
        "Object Oriented Programming (OOP) adalah teknik pemrograman di mana semua hal dalam program dimodelkan seperti objek dalam dunia nyata. Objek di dunia nyata memiliki ciri atau attribut dan juga aksi atau kelakuan (behaviour).\n",
        "Implementasi OOP:\n",
        "• Menu pada rumah makan. Sebuah menu dapat memiliki attributes misalnya: nama, deskripsi dan harga. Sedangkan behaviors dari sebuah menu misalnya: dipesan.\n",
        "• Buku pada sebuah perpustakaan. Sebuah buku dapat memiliki attributes misalnya: judul, pengarang, kode isbn, tahun terbit, versi, nomor salinan, dst. Sedangkan behaviors dari sebuah buku misalnya: dipinjam"
      ],
      "metadata": {
        "id": "2D57P4pNqNCQ"
      }
    },
    {
      "cell_type": "markdown",
      "source": [
        "2. Sebutkan dan jelaskan 2 jenis modules yang ada di Python!\n",
        "\n",
        "a. Tqdm merupakan modul Python yang berguna untuk menampilkan progress bar dengan perulangan yang sederhana. Jika pembaca membutuhkan keindahan dalam proses pemrograman yang pembaca lakukan, tqdm bisa menjadi pilihan.\n",
        "b. Joblib merupakan modul Python yang berguna untuk menyediakan fungsionalitas pemrograman paralel. Ada tiga bagian penting dalam modul ini yaitu Caching, Paralellisation dan Persistence (untuk menyimpan dan memuat data)."
      ],
      "metadata": {
        "id": "bK206f1xqjzK"
      }
    },
    {
      "cell_type": "code",
      "source": [
        "#No. 3\n",
        "\n",
        "import math as mt\n",
        "a = mt.sqrt(175)\n",
        "b = 4*mt.sqrt(7)\n",
        "c = 1/3\n",
        "d = mt.log(81,3)\n",
        "total = ((a)+(b)+(c)+(d))\n",
        "print(total)"
      ],
      "metadata": {
        "colab": {
          "base_uri": "https://localhost:8080/"
        },
        "id": "d8VWHM0vqwel",
        "outputId": "e385791d-c618-4339-ff4a-2a40eb58cbf6"
      },
      "execution_count": 1,
      "outputs": [
        {
          "output_type": "stream",
          "name": "stdout",
          "text": [
            "28.145095132914648\n"
          ]
        }
      ]
    },
    {
      "cell_type": "markdown",
      "source": [
        "4. Sebutkan 3 contoh aplikasi Machine Learning di sektor smart city dan agriculture!\n",
        "\n",
        "Exception Handling merupakan mekanisme yang paling diperlukan dalam menangani error yang terjadi pada saat runtime (program berjalan) atau yang lebih dikenal dengan sebutan runtime error."
      ],
      "metadata": {
        "id": "M3YA5nldr10-"
      }
    },
    {
      "cell_type": "code",
      "source": [
        "def convert(s):\n",
        "  '''convert to integer'''\n",
        "  try:\n",
        "    x = int(s)\n",
        "    print(\"Konversi Berhasil!, x=\", x)\n",
        "  except ValueError:\n",
        "    print(\"Konversi Gagal!\")\n",
        "    x = -1\n",
        "    return x"
      ],
      "metadata": {
        "id": "ApNSXaYEsCZn"
      },
      "execution_count": 3,
      "outputs": []
    },
    {
      "cell_type": "markdown",
      "source": [
        "Artificial Intelligence\n",
        "1. Data terstruktur adalah semua jenis data yang pemformatan, angka, dan tata letaknya berada dalam bidang/tempat yang tetap dalam file atau rekaman. Sedangkan, Data tidak terstruktur adalah data kualitatif yang artinya tidak dapat diolah atau dianalisis dengan alat dan metode konvensional.\n",
        "Sumber Data : Data Pemerintah, Data Media masa, Dan Data Studi Pustaka\n",
        "2. Artificial Intelligence (kecerdasan buatan – AI) merupakan teknologi masa kini yang konsepnya “membawa kepintaran manusia ke dalam mesin.” Mungkin ini terdengar tidak masuk akal, mengingat kekompleksan cara berpikir manusia.Namun faktanya teknologi AI ternyata lebih dekat dari yang kita kira. Ada banyak sekali aspek kehidupan kita yang ternyata sudah menggunakan teknologi AI\n",
        "Sedangkan, Machine Learning adalah bagian dari implementasi Artificial Intelligence. Machine Learning merupakan metode pembelajaran AI yang memanfaatkan data untuk membuat prediksi layaknya manusia.\n",
        "Terakhir, istilah Deep Learning merujuk pada salah satu algoritma yang digunakan oleh Machine Learning dalam Artificial Intelligence. Deep Learning memanfaatkan berbagai variable kompleks dalam analisisnya, sehingga mesin bisa memahami suatu pola atau kebiasaan yang timbul dari suatu kejadian.\n",
        "3. Machine learning memiliki beberapa sub grup sebenarnya, tetapi untuk kemudahan mencerna informasi kita jadi satukan semua sub grup tersebut dalam satu pembahasan. Machine learning programming adalah pendekatan development software yang menggunakan data dari masa lalu untuk memprediksi pola kemudian dari pola tersebut dapat kita tafsirkan kecenderungan hasil / kesimpulan / data yang akan diinput user itu seperti apa. Machine learning akan sangat sulit jika anda tidak mengerti matematika dan\n",
        "programming dasar. Malah diperlukan ilmu statistik juga sepanjang jalan development.\n",
        "Sedangkan, Tradisional Software disebut pelakunya adalah programmer dan codera adalah proses pembangunan software dengan mengetahui dahulu background knowledge kemudian melakukan pemrograman software berdasarkan fungsional dari yang diketahui. Di Tradisional Software biasa, kita tidak perlu memiliki data existing, malah dari program yang dibuat tersebut dimaksudkan untuk menambang data yang ada. Jadi kita tidak memerlukan data lama.\n",
        "4. mCity, Qlue, Smart Parking"
      ],
      "metadata": {
        "id": "rZ-YTTGttPxC"
      }
    },
    {
      "cell_type": "markdown",
      "source": [
        "Math For AI\n",
        "\n",
        "1. Mengapa ilmu matematika penting ketika mempelajari AI?\n",
        "\n",
        "Ilmu Matematika Dikatakan Sangat Penting Dala AI Dikarekan Terkadang\n",
        "Programmer harus menyempurnakan algoritma dengan mengubah nilai\n",
        "parameter, jika Programmer tidak tertarik pada perspektif algoritma dan\n",
        "memahami kerja internal matematika, Programmer tidak akan mencapai\n",
        "penyetelan yang tepat\n",
        "\n",
        "2. Jelaskan perbedaan vektor dan skalar!\n",
        "\n",
        "Besaran vector adalah besaran yang memiliki nilai dan arah. Contohnya\n",
        "adalah perpindahan, kecepatan, percepatan, gaya momentum, impuls, medan\n",
        "magnet, dan lain-lain. Sedangkan, Besaran Skalar adalah besaran yang hanya\n",
        "memiliki nilai dan tidak memiliki arah. Contohnya adalah semua besaran\n",
        "pokok, energi, kelajuan, usaha, luas, daya, volume, dan lain-lain.\n",
        "\n",
        "3. Apa perbedaan dari Jarak Euclidean dan Manhattan?\n",
        "\n",
        "Euclidean distance merupakan salah satu metode perhitungan jarak yang\n",
        "digunakan untuk mengukur jarak dari 2 (dua) buah titik dalam Euclidean space\n",
        "(meliputi bidang euclidean dua dimensi, tiga dimensi, atau bahkan lebih).\n",
        "Sedangkan, Manhattan distance digunakan untuk menghitung perbedaan\n",
        "absolut (mutlak) antara koordinat sepasang objek.\n",
        "\n",
        "4. Apa kegunaan matriks dalam ilmu matematika ketika menerapkan AI?\n",
        "\n",
        "Kegunaan matriks dalam ilmu matematika ketika menerapkan AI Dikarenakan\n",
        "Operasi Matriks umumnya menangani data dalam jumlah besar, sehingga\n",
        "lebih mudah untuk menerapkan operasi skalar seperti perkalian dan\n",
        "pembagian skalar, dan juga operasi antar vektor melalui berbagai operasi\n",
        "matriks dengan kecepatan dan kemudahan yang tinggi."
      ],
      "metadata": {
        "id": "HGCFQ-k0tWsV"
      }
    },
    {
      "cell_type": "markdown",
      "source": [
        "Machine Learning\n",
        "\n",
        "1. Jelaskan perbedaan supervised dan unsupervised learning dan sebutkan 2 contohnya!\n",
        "\n",
        "Algoritma supervised learning merupakan algoritma machine learning yang\n",
        "proses pembelajarannya di bawah pengawasan guru atau supervisor.\n",
        "Algoritma ini memerlukan data berlabel untuk membangun sebuah model yang\n",
        "tingkat akurasinya bisa ditingkatkan dari waktu ke waktu. Semakin banyak\n",
        "model tersebut mengolah data, maka tingkat keakurasiannya juga akan\n",
        "semakin tinggi. Dalam algoritma supervised learning, terdapat dua variabel,\n",
        "yaitu variabel input yang biasa disebut variabel X dan variabel output yang\n",
        "biasa disebut variabel Y.\n",
        "Sedangkan, algoritma unsupervised learning, proses pembelajaran lebih\n",
        "bebas karena tidak ada pengawasan. Algoritma unsupervised learning lebih\n",
        "bebas dalam proses eksplorasi data karena tidak memiliki data label dan bisa\n",
        "mencari karakteristik data yang tersembunyi. Algoritma ini menggunakan titik\n",
        "data sebagai referensi untuk menemukan struktur dan pola yang ada di dalam\n",
        "data set.\n",
        "Contoh pengaplikasian Supervised learning dapat dimanfaatkan untuk\n",
        "memprediksi harga rumah, mengklasifikasikan suatu benda, memprediksi\n",
        "cuaca, dan kepuasan pelanggan.\n",
        "Contoh pengaplikasian algoritma unsupervised learning adalah segmentasi\n",
        "pelanggan, mengurangi kompleksitas suatu masalah, dan memilih fitur yang\n",
        "tepat.\n",
        "\n",
        "2. Sebutkan setiap tahap yang ada di Machine Learning life cycle dan jelaskan!\n",
        "\n",
        "a. Identify the data\n",
        "Ini merupakan proses awal dalam membuat rancangan machine learning.\n",
        "Pertama kali harus mengidentifikasi masalah yang ingin dipecahkan. Caranya\n",
        "dengan pendekatan logis dan matematis. Mengidentifikasi data dapat\n",
        "digunakan untuk membuat pertanyaan dasar. Agar alur yang kita buat tidak\n",
        "keluar dari topik awal pembahasan .\n",
        "b. Prepare data\n",
        "Data sangat berperan dari pem, buatan model machine learning. Semakin\n",
        "banyak data yang disiapkan, semakin valid output yang dihasilkan oleh\n",
        "machine learning. Dalam pengumpulan data, terdapat dua metode yaitu data\n",
        "mining dan web scrapping.\n",
        "c. Select ML Algoritm\n",
        "Langkah selanjutnya adalah memilih algoritma yang cocok untuk menangani\n",
        "problem yang muncul. Berikut beberapa metode algoritma yang bisa\n",
        "digunakan seperti supervised learning untuk memprediksi masa depan.\n",
        "Sedangkan reinforcement learning yaitu proses pengambilan keputusan\n",
        "d. Split data\n",
        "Proses ini terjadi saat pembagian data agar memudahkan dalam proses\n",
        "selanjutnya. Dengan data yang dibagi ini model machine learning mudah untuk\n",
        "diidentifikasi.\n",
        "e. Train\n",
        "Proses train digunakan untuk melatih tubuh machine learning dengan\n",
        "mengisikan data yang sudah diproses. Mulai dari proses mengidentifikasi,\n",
        "mempersiapkan data, dan memilih algoritma yang tepat.\n",
        "Tak lupa membagi data yang sudah diproses. Mesin dilatih agar dapat\n",
        "menentukan data yang masuk sesuai dengan klasifikasinya.\n",
        "f. Evaluate\n",
        "Proses yang keenam adalah mengevalusai kembali machine learning. Apakah\n",
        "datanya yang dimasukan sudah benar. Apakah sedah sesuai dengan yang\n",
        "diajarkan.\n",
        "Proses ini menentukan keakuratan prediksi atau hasil dari machine learning\n",
        "yang kita buat.\n",
        "g. Predict\n",
        "Nah, ini merupakan uji coba apakah machine learning yang telah kita buat\n",
        "bekerja dengan baik. Caranya dengan melihat hasil atau prediksi yang\n",
        "dihasilkan.\n",
        "Apakah sesuai dengan input data. Dapat dikatakan proses ini proses semifinal\n",
        "sebelum diproses ke tahap selanjutnya.\n",
        "h. Deploy\n",
        "Berikut merupakan proses akhir dalam membangun model machine learning\n",
        "yaitu proses deploy. Proses ini langsung menerapkan kepada masalah.\n",
        "Tentunya untuk melihat prediksi dari data yang ada.\n",
        "\n",
        "3. Apa perbedaan regression dengan clustering?\n",
        "\n",
        "Regresi adalah suatu teknik analisis untuk mengidentifikasi relasi atau\n",
        "hubungan diantara dua variabel atau lebih. Regresi bertujuan untuk\n",
        "menemukan suatu fungsi yang memodelkan data dengan meminimalkan error\n",
        "atau selisih antara nilai prediksi dengan nilai sebenarnya.\n",
        "Sedangkan, Clustering atau klasterisasi termasuk unsupervised learning.\n",
        "Clustering dilakukan jika kita ingin menemukan klaster dari sebuah dataset.\n",
        "\n",
        "4. Apa itu algoritma Artificial Neural Network dan untuk apa fungsinya?\n",
        "\n",
        "Artificial Neural Network (ANN) atau Jaringan Saraf Tiruan (JST) merupakan\n",
        "set algoritma yang berkerja seperti jaringan saraf otak manusia, dimana\n",
        "neuron saling terhubung satu dengan lainya, bekerja untuk memproses\n",
        "informasi. Tujuan utama dari ANN adalah menjadikan komputer memiliki\n",
        "kemampuan cognitif seperti otak manusia, memiliki kemampuan problem\n",
        "solving dan dapat melakukan proses pembelajaran."
      ],
      "metadata": {
        "id": "lPa-k-teuK5B"
      }
    }
  ]
}