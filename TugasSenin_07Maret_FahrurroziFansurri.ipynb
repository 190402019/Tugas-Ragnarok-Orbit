{
  "nbformat": 4,
  "nbformat_minor": 0,
  "metadata": {
    "colab": {
      "name": "TugasSenin_07Maret_FahrurroziFansurri",
      "provenance": []
    },
    "kernelspec": {
      "name": "python3",
      "display_name": "Python 3"
    },
    "language_info": {
      "name": "python"
    }
  },
  "cells": [
    {
      "cell_type": "markdown",
      "source": [
        "Buatlah 3 OOP beserta turunannya dari objek sekitar, buat ulang seperti contoh (encapsulation, abstaction, inheritance, polymorphism)"
      ],
      "metadata": {
        "id": "QGpq4rzSdZuh"
      }
    },
    {
      "cell_type": "markdown",
      "source": [
        "**Encapsulation**"
      ],
      "metadata": {
        "id": "bpZ5YrKGdcuu"
      }
    },
    {
      "cell_type": "code",
      "source": [
        "merk = \"Samsung\"\n",
        "tahun = 2022\n",
        "warna = \"hitam\"\n",
        "jenis = \"Smart TV\"\n",
        "\n",
        "def nyala():\n",
        "  print(\"Turning on TV\")\n",
        "\n",
        "def info_tv(nama, tahun, warna, jenis):\n",
        "  print(f\"Merk: {merk}, Tahun Produksi: {tahun}, warna: {warna}, Jenis TV: {jenis}\") \n",
        "\n",
        "info_tv(merk, tahun, warna, jenis)\n",
        "nyala()"
      ],
      "metadata": {
        "colab": {
          "base_uri": "https://localhost:8080/"
        },
        "id": "-LvzajWXde28",
        "outputId": "01e29b2c-52c7-4f6f-909a-3c350a728191"
      },
      "execution_count": 1,
      "outputs": [
        {
          "output_type": "stream",
          "name": "stdout",
          "text": [
            "Merk: Samsung, Tahun Produksi: 2022, warna: hitam, Jenis TV: Smart TV\n",
            "Turning on TV\n"
          ]
        }
      ]
    },
    {
      "cell_type": "code",
      "source": [
        "class TV(object):\n",
        "    \n",
        "    merk_tv = \"\"\n",
        "    def __init__(self, input_merk, input_tahun, input_warna, input_jenis):\n",
        "        self.merk = input_merk\n",
        "        self.tahun = input_tahun\n",
        "        self.warna = input_warna\n",
        "        self.jenis = input_jenis\n",
        "        TV.merk_tv = input_merk\n",
        "\n",
        "    def nyala(self):\n",
        "        print(\"Turning on TV\", self.merk)\n",
        "\n",
        "    def info(self):\n",
        "        print(f\"Merk: {self.merk}, Tahun Produksi: {self.tahun}, warna: {self.warna}, jenis: {self.jenis}\")\n",
        "        \n",
        "        \n",
        "tv1 = TV(\"Xiaomi\", 2021, \"hitam\", \"Smart Tv\")\n",
        "\n",
        "tv1.info()\n",
        "tv1.nyala()"
      ],
      "metadata": {
        "colab": {
          "base_uri": "https://localhost:8080/"
        },
        "id": "mvbunXbldjma",
        "outputId": "a4a66211-d097-413a-bd13-882de538d346"
      },
      "execution_count": 2,
      "outputs": [
        {
          "output_type": "stream",
          "name": "stdout",
          "text": [
            "Merk: Xiaomi, Tahun Produksi: 2021, warna: hitam, jenis: Smart Tv\n",
            "Turning on TV Xiaomi\n"
          ]
        }
      ]
    },
    {
      "cell_type": "markdown",
      "source": [
        "**Inheritence**"
      ],
      "metadata": {
        "id": "kG5NE63adnK-"
      }
    },
    {
      "cell_type": "code",
      "source": [
        "class Elektronik(object):\n",
        "    def __init__(self, merk, tahun, jenis, normal):\n",
        "        self.merk = merk\n",
        "        self.tahun = tahun\n",
        "        self.jenis = jenis\n",
        "        self.normal = normal\n",
        "\n",
        "    def loading(self, durasi):\n",
        "        for x in range(durasi):\n",
        "            print(\"Loading Device\")\n",
        "\n",
        "    def info(self):\n",
        "        print(f\"Merk: {self.merk}, Tahun Produksi: {self.tahun}, Jenis: {self.jenis}, Berfungsi: {self.normal}\")\n",
        "\n",
        "\n",
        "device1 = Elektronik(\"Samsung\", 2022, \"Smartphone\", True)\n",
        "\n",
        "device1.info()"
      ],
      "metadata": {
        "colab": {
          "base_uri": "https://localhost:8080/"
        },
        "id": "rcUml3LrdpFw",
        "outputId": "d3f921e9-036b-489a-93dd-3b5fa54010c3"
      },
      "execution_count": 3,
      "outputs": [
        {
          "output_type": "stream",
          "name": "stdout",
          "text": [
            "Merk: Samsung, Tahun Produksi: 2022, Jenis: Smartphone, Berfungsi: True\n"
          ]
        }
      ]
    },
    {
      "cell_type": "code",
      "source": [
        "class TV(Elektronik):\n",
        "    def __init__(self,  merk, tahun, jenis, normal, warna, harga):\n",
        "        super().__init__(merk, tahun, jenis, normal)\n",
        "        self.warna = warna\n",
        "        self.harga = harga\n",
        "\n",
        "    def mencari(self):\n",
        "        super().loading(1)\n",
        "        print(\"Searching channel..\")\n",
        "\n",
        "    def info_tv(self):\n",
        "        super().info()\n",
        "        print(f\"Warna: {self.warna}, Harga: {self.harga}\")\n",
        "\n",
        "television1 = TV(\"Samsung\", 2021, \"TV OLED\", True, \"Pitch Black\", \"Rp. 5,500,00,-\")\n",
        "\n",
        "\n",
        "\n",
        "television1.info_tv()\n",
        "television1.mencari()"
      ],
      "metadata": {
        "colab": {
          "base_uri": "https://localhost:8080/"
        },
        "id": "KkxUQga1drYQ",
        "outputId": "b95b0cd7-10b5-419c-877d-ced516c22513"
      },
      "execution_count": 4,
      "outputs": [
        {
          "output_type": "stream",
          "name": "stdout",
          "text": [
            "Merk: Samsung, Tahun Produksi: 2021, Jenis: TV OLED, Berfungsi: True\n",
            "Warna: Pitch Black, Harga: Rp. 5,500,00,-\n",
            "Loading Device\n",
            "Searching channel..\n"
          ]
        }
      ]
    },
    {
      "cell_type": "markdown",
      "source": [
        "**Abstraction**"
      ],
      "metadata": {
        "id": "NvqKlcFGdwwm"
      }
    },
    {
      "cell_type": "code",
      "source": [
        "from abc import abstractmethod, ABC"
      ],
      "metadata": {
        "id": "T522fq_AdxxM"
      },
      "execution_count": 5,
      "outputs": []
    },
    {
      "cell_type": "code",
      "source": [
        "class Absclass(ABC):\n",
        "    #Method biasa\n",
        "    def hp(self,x):\n",
        "        print(\"Merk:\", x)\n",
        "    \n",
        "    #Abstract Method\n",
        "    @abstractmethod\n",
        "    def os(self):\n",
        "        pass\n",
        "\n",
        "        \n",
        "class android(Absclass):\n",
        "    def os(self):\n",
        "        print(\"Android\")\n",
        "    def kelas(self):\n",
        "        print('Mid Range')\n",
        "        \n",
        "        \n",
        "class iOS(Absclass):\n",
        "    def os(self):\n",
        "        print(\"iOS\")\n",
        "\n",
        "\n",
        "#object of test_class created\n",
        "test_obj = android()\n",
        "test_obj.os()\n",
        "test_obj.hp(\"Samsung\")\n",
        "test_obj.kelas()\n",
        "\n",
        "test2_obj = iOS()\n",
        "test2_obj.os()\n",
        "test2_obj.hp(\"Iphone X\")"
      ],
      "metadata": {
        "colab": {
          "base_uri": "https://localhost:8080/"
        },
        "id": "2XYBfvRGdzTf",
        "outputId": "0edd8c0a-9127-4ee4-9844-20735747911e"
      },
      "execution_count": 6,
      "outputs": [
        {
          "output_type": "stream",
          "name": "stdout",
          "text": [
            "Android\n",
            "Merk: Samsung\n",
            "Mid Range\n",
            "iOS\n",
            "Merk: Iphone X\n"
          ]
        }
      ]
    },
    {
      "cell_type": "code",
      "source": [
        "class instrument(ABC):\n",
        "    \n",
        "    @abstractmethod\n",
        "    def suara(self):\n",
        "        pass\n",
        "    \n",
        "class drum(instrument):\n",
        "    def suara(self):\n",
        "        print(\"dum dum\")\n",
        "        \n",
        "class triangle(instrument):\n",
        "    def suara(self):\n",
        "        print(\"ting ting ting\")"
      ],
      "metadata": {
        "id": "FHPqIOYxd2jN"
      },
      "execution_count": 7,
      "outputs": []
    },
    {
      "cell_type": "code",
      "source": [
        "drum1 = drum()\n",
        "triangle1 = triangle()\n",
        "drum1.suara()\n",
        "triangle1.suara()"
      ],
      "metadata": {
        "colab": {
          "base_uri": "https://localhost:8080/"
        },
        "id": "J3w6f91id53J",
        "outputId": "8d2f94e0-876b-4d56-973d-99d71324d994"
      },
      "execution_count": 8,
      "outputs": [
        {
          "output_type": "stream",
          "name": "stdout",
          "text": [
            "dum dum\n",
            "ting ting ting\n"
          ]
        }
      ]
    }
  ]
}