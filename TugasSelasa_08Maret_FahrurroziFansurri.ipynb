{
  "nbformat": 4,
  "nbformat_minor": 0,
  "metadata": {
    "colab": {
      "name": "TugasSelasa_08Maret_FahrurroziFansurri",
      "provenance": []
    },
    "kernelspec": {
      "name": "python3",
      "display_name": "Python 3"
    },
    "language_info": {
      "name": "python"
    }
  },
  "cells": [
    {
      "cell_type": "code",
      "execution_count": 1,
      "metadata": {
        "id": "xBIBsGE8W8i7"
      },
      "outputs": [],
      "source": [
        "import numpy as np"
      ]
    },
    {
      "cell_type": "code",
      "source": [
        "A = np.array([[1, 2], [7,8]])\n",
        "B = np.array([[3, 5], [1,6]])"
      ],
      "metadata": {
        "id": "-nGYQKooXFjB"
      },
      "execution_count": 2,
      "outputs": []
    },
    {
      "cell_type": "markdown",
      "source": [
        "Hitunglah:\n",
        "\n",
        "- 2*A\n",
        "- 2+A\n",
        "- A+B\n",
        "- A-B\n",
        "- determinan A\n",
        "- invers dari B, simpan jadi matriks D\n",
        "- transpose D\n",
        "- nilai eigen dan vektor eigen dari A dan B"
      ],
      "metadata": {
        "id": "uNwseYRqXKFq"
      }
    },
    {
      "cell_type": "code",
      "source": [
        "print(2*A)"
      ],
      "metadata": {
        "colab": {
          "base_uri": "https://localhost:8080/"
        },
        "id": "S65_mTSoXMzU",
        "outputId": "eb15890f-33b4-471c-9158-5bf4194985ad"
      },
      "execution_count": 3,
      "outputs": [
        {
          "output_type": "stream",
          "name": "stdout",
          "text": [
            "[[ 2  4]\n",
            " [14 16]]\n"
          ]
        }
      ]
    },
    {
      "cell_type": "code",
      "source": [
        "print(2 + A)"
      ],
      "metadata": {
        "colab": {
          "base_uri": "https://localhost:8080/"
        },
        "id": "K6Oj58L2XXt4",
        "outputId": "5a03df1a-e877-4a54-bfd9-b9d97e086fef"
      },
      "execution_count": 4,
      "outputs": [
        {
          "output_type": "stream",
          "name": "stdout",
          "text": [
            "[[ 3  4]\n",
            " [ 9 10]]\n"
          ]
        }
      ]
    },
    {
      "cell_type": "code",
      "source": [
        "print(A+B)"
      ],
      "metadata": {
        "colab": {
          "base_uri": "https://localhost:8080/"
        },
        "id": "lPdki9hXXah6",
        "outputId": "c1edaad7-f295-4ff1-87e8-66f7a4cf78a0"
      },
      "execution_count": 5,
      "outputs": [
        {
          "output_type": "stream",
          "name": "stdout",
          "text": [
            "[[ 4  7]\n",
            " [ 8 14]]\n"
          ]
        }
      ]
    },
    {
      "cell_type": "code",
      "source": [
        "print(A-B)"
      ],
      "metadata": {
        "colab": {
          "base_uri": "https://localhost:8080/"
        },
        "id": "syjXKwyCXcXQ",
        "outputId": "0dab3485-527f-40c4-8e3c-41d58e3821cb"
      },
      "execution_count": 6,
      "outputs": [
        {
          "output_type": "stream",
          "name": "stdout",
          "text": [
            "[[-2 -3]\n",
            " [ 6  2]]\n"
          ]
        }
      ]
    },
    {
      "cell_type": "code",
      "source": [
        "D = np.linalg.inv(B)"
      ],
      "metadata": {
        "id": "14EsMOsjXhuk"
      },
      "execution_count": 7,
      "outputs": []
    },
    {
      "cell_type": "code",
      "source": [
        "print(D.transpose())"
      ],
      "metadata": {
        "colab": {
          "base_uri": "https://localhost:8080/"
        },
        "id": "GnCeLoP4Xj6j",
        "outputId": "a97965af-a35b-48da-90d0-e0c456ad6fc0"
      },
      "execution_count": 8,
      "outputs": [
        {
          "output_type": "stream",
          "name": "stdout",
          "text": [
            "[[ 0.46153846 -0.07692308]\n",
            " [-0.38461538  0.23076923]]\n"
          ]
        }
      ]
    },
    {
      "cell_type": "code",
      "source": [
        "eig_val, eign_vec= np.linalg.eig(A)"
      ],
      "metadata": {
        "id": "AbAF2bTHXnEp"
      },
      "execution_count": 9,
      "outputs": []
    },
    {
      "cell_type": "code",
      "source": [
        "print('Eigen Value A = \\n',eig_val)"
      ],
      "metadata": {
        "colab": {
          "base_uri": "https://localhost:8080/"
        },
        "id": "pAENoWZGXoh3",
        "outputId": "81576706-f55e-48fb-d8ef-9ccef63592f7"
      },
      "execution_count": 10,
      "outputs": [
        {
          "output_type": "stream",
          "name": "stdout",
          "text": [
            "Eigen Value A = \n",
            " [-0.62347538  9.62347538]\n"
          ]
        }
      ]
    },
    {
      "cell_type": "code",
      "source": [
        "print('Eigen Vector A = \\n',\n",
        "      eign_vec)"
      ],
      "metadata": {
        "colab": {
          "base_uri": "https://localhost:8080/"
        },
        "id": "KMeq-1buXq4-",
        "outputId": "3393cb91-d6ac-4836-83f2-cb309b579b26"
      },
      "execution_count": 11,
      "outputs": [
        {
          "output_type": "stream",
          "name": "stdout",
          "text": [
            "Eigen Vector A = \n",
            " [[-0.77640358 -0.22592838]\n",
            " [ 0.63023605 -0.97414391]]\n"
          ]
        }
      ]
    },
    {
      "cell_type": "code",
      "source": [
        "print('Eigen Value B = \\n',eig_val)"
      ],
      "metadata": {
        "colab": {
          "base_uri": "https://localhost:8080/"
        },
        "id": "EPXkdg5vXuni",
        "outputId": "901b7408-a44e-429e-f2ab-ca7acce80974"
      },
      "execution_count": 13,
      "outputs": [
        {
          "output_type": "stream",
          "name": "stdout",
          "text": [
            "Eigen Value B = \n",
            " [-0.62347538  9.62347538]\n"
          ]
        }
      ]
    },
    {
      "cell_type": "markdown",
      "source": [
        "Apa perbedaan dari B*D (perkalian antar entry di B dan D) dan BD (perkalian matriks B dan D)?"
      ],
      "metadata": {
        "id": "L9Y7ghcsX1fD"
      }
    },
    {
      "cell_type": "code",
      "source": [
        "print(\"perkalian antar entry di B dan D = \\n\",B*D)"
      ],
      "metadata": {
        "colab": {
          "base_uri": "https://localhost:8080/"
        },
        "id": "lzzOxIclX38D",
        "outputId": "86a4b955-7bd0-4c5b-be51-2ebb0550aab1"
      },
      "execution_count": 14,
      "outputs": [
        {
          "output_type": "stream",
          "name": "stdout",
          "text": [
            "perkalian antar entry di B dan D = \n",
            " [[ 1.38461538 -1.92307692]\n",
            " [-0.07692308  1.38461538]]\n"
          ]
        }
      ]
    },
    {
      "cell_type": "code",
      "source": [
        "print(\"perkalian matriks B dan D = \\n\",np.matmul(B,D))"
      ],
      "metadata": {
        "colab": {
          "base_uri": "https://localhost:8080/"
        },
        "id": "OOKK3GVYX7rt",
        "outputId": "2363d9e6-8473-428f-fcea-55b6a45668a6"
      },
      "execution_count": 15,
      "outputs": [
        {
          "output_type": "stream",
          "name": "stdout",
          "text": [
            "perkalian matriks B dan D = \n",
            " [[ 1.00000000e+00 -1.11022302e-16]\n",
            " [ 1.11022302e-16  1.00000000e+00]]\n"
          ]
        }
      ]
    }
  ]
}