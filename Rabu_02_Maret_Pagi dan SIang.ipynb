{
  "nbformat": 4,
  "nbformat_minor": 0,
  "metadata": {
    "colab": {
      "name": "Tugas_Module1.ipynb",
      "provenance": [],
      "collapsed_sections": []
    },
    "kernelspec": {
      "name": "python3",
      "display_name": "Python 3"
    },
    "language_info": {
      "name": "python"
    }
  },
  "cells": [
    {
      "cell_type": "code",
      "execution_count": null,
      "metadata": {
        "colab": {
          "base_uri": "https://localhost:8080/"
        },
        "id": "ff9XvzOmiI20",
        "outputId": "9573d83b-af18-4667-ae75-5991ed5de391"
      },
      "outputs": [
        {
          "output_type": "stream",
          "name": "stdout",
          "text": [
            "Hello World\n"
          ]
        }
      ],
      "source": [
        "print(\"Hello World\")"
      ]
    },
    {
      "cell_type": "code",
      "source": [
        "print('hello')\n",
        "print('This is also a string')"
      ],
      "metadata": {
        "colab": {
          "base_uri": "https://localhost:8080/"
        },
        "id": "GWu_TwDzieRA",
        "outputId": "72642ab3-e848-4a4c-f6e6-6402e965d044"
      },
      "execution_count": null,
      "outputs": [
        {
          "output_type": "stream",
          "name": "stdout",
          "text": [
            "hello\n",
            "This is also a string\n"
          ]
        }
      ]
    },
    {
      "cell_type": "code",
      "source": [
        "s = 'Pekanbaru'\n",
        "print(s)"
      ],
      "metadata": {
        "colab": {
          "base_uri": "https://localhost:8080/"
        },
        "id": "ZjraVIY1iwwU",
        "outputId": "a5cd4608-550f-41ab-f7c9-006b81d617c7"
      },
      "execution_count": 1,
      "outputs": [
        {
          "output_type": "stream",
          "name": "stdout",
          "text": [
            "Pekanbaru\n"
          ]
        }
      ]
    },
    {
      "cell_type": "code",
      "source": [
        "print(type(s))"
      ],
      "metadata": {
        "colab": {
          "base_uri": "https://localhost:8080/"
        },
        "id": "L8wVsYg_jAeJ",
        "outputId": "373063a2-a9cd-4f4f-ac1b-6e50f6f80b18"
      },
      "execution_count": null,
      "outputs": [
        {
          "output_type": "stream",
          "name": "stdout",
          "text": [
            "<class 'str'>\n"
          ]
        }
      ]
    },
    {
      "cell_type": "code",
      "source": [
        "print(len(s))\n"
      ],
      "metadata": {
        "colab": {
          "base_uri": "https://localhost:8080/"
        },
        "id": "ATBeos9zjHcq",
        "outputId": "26032c96-535e-4a98-b641-0c024b357c1d"
      },
      "execution_count": null,
      "outputs": [
        {
          "output_type": "stream",
          "name": "stdout",
          "text": [
            "8\n"
          ]
        }
      ]
    },
    {
      "cell_type": "code",
      "source": [
        "s = 'Hello World'\n",
        "print(s)"
      ],
      "metadata": {
        "colab": {
          "base_uri": "https://localhost:8080/"
        },
        "id": "KW1yXB3_jQ5m",
        "outputId": "ba6c4cb3-25cc-40f8-bee1-545812ed6b59"
      },
      "execution_count": null,
      "outputs": [
        {
          "output_type": "stream",
          "name": "stdout",
          "text": [
            "Hello World\n",
            "\n"
          ]
        }
      ]
    },
    {
      "cell_type": "code",
      "source": [
        "print(s[0]) #menampilkan huruf pertama"
      ],
      "metadata": {
        "colab": {
          "base_uri": "https://localhost:8080/"
        },
        "id": "cKvcgAsJjkAi",
        "outputId": "57139d77-3ddb-44a7-f908-58c4b1e0437a"
      },
      "execution_count": null,
      "outputs": [
        {
          "output_type": "stream",
          "name": "stdout",
          "text": [
            "H\n"
          ]
        }
      ]
    },
    {
      "cell_type": "code",
      "source": [
        "print(s[1]) #menampilkan huruf kedua"
      ],
      "metadata": {
        "colab": {
          "base_uri": "https://localhost:8080/"
        },
        "id": "HO_mwPt_jv1m",
        "outputId": "9a64f245-0bb0-413d-db15-53b9542bd63c"
      },
      "execution_count": 2,
      "outputs": [
        {
          "output_type": "stream",
          "name": "stdout",
          "text": [
            "e\n"
          ]
        }
      ]
    },
    {
      "cell_type": "code",
      "source": [
        "s1 = 'Hello'\n",
        "s2 = \"World\"\n",
        "print(s1 + \" \" + s2)"
      ],
      "metadata": {
        "colab": {
          "base_uri": "https://localhost:8080/"
        },
        "id": "Ym50j6xvkHtf",
        "outputId": "0d7e0e45-c028-471a-f5c1-f78bd13c0ae1"
      },
      "execution_count": null,
      "outputs": [
        {
          "output_type": "stream",
          "name": "stdout",
          "text": [
            "Hello World\n"
          ]
        }
      ]
    },
    {
      "cell_type": "code",
      "source": [
        "print(\"Hello_\" * 3)\n",
        "print(\"-\" * 10)"
      ],
      "metadata": {
        "colab": {
          "base_uri": "https://localhost:8080/"
        },
        "id": "XnAI7lsPkV6_",
        "outputId": "47904b53-0940-4023-b0bf-1d45a69dfd62"
      },
      "execution_count": null,
      "outputs": [
        {
          "output_type": "stream",
          "name": "stdout",
          "text": [
            "Hello_Hello_Hello_\n",
            "----------\n"
          ]
        }
      ]
    },
    {
      "cell_type": "code",
      "source": [
        "s = \"Namaste World\"\n",
        "print(s[1])\n",
        "print(s[6:11])\n",
        "print(s[-5:-1])\n",
        "print(\"Wor\" in s)"
      ],
      "metadata": {
        "colab": {
          "base_uri": "https://localhost:8080/"
        },
        "id": "yHbNtpqNk4fq",
        "outputId": "f16c98d4-501d-4463-a3a8-28b98805176d"
      },
      "execution_count": null,
      "outputs": [
        {
          "output_type": "stream",
          "name": "stdout",
          "text": [
            "a\n",
            "e Wor\n",
            "Worl\n",
            "True\n"
          ]
        }
      ]
    },
    {
      "cell_type": "code",
      "source": [
        "s = \"Hello World\"\n",
        "print(s.upper())\n",
        "print(s.lower())"
      ],
      "metadata": {
        "colab": {
          "base_uri": "https://localhost:8080/"
        },
        "id": "icP7UUEMlCV0",
        "outputId": "fb3224e2-63fe-4f88-dada-dc044f2f1895"
      },
      "execution_count": null,
      "outputs": [
        {
          "output_type": "stream",
          "name": "stdout",
          "text": [
            "HELLO WORLD\n",
            "hello world\n"
          ]
        }
      ]
    },
    {
      "cell_type": "code",
      "source": [
        "name = \"Einstein\"\n",
        "age = 22\n",
        "married = True\n",
        "print(\"My name is %s, my age is %s, and it is %s that I am married\" %\n",
        "(name, age, married))\n",
        "print(\"My name is {}, my age is {}, and it is {} that I am married\".format(name, age, married))"
      ],
      "metadata": {
        "colab": {
          "base_uri": "https://localhost:8080/"
        },
        "id": "HxXTMMowlPVS",
        "outputId": "4e11519b-0836-4e64-fd82-5970aefbae6d"
      },
      "execution_count": null,
      "outputs": [
        {
          "output_type": "stream",
          "name": "stdout",
          "text": [
            "My name is Einstein, my age is 22, and it is True that I am married\n",
            "My name is Einstein, my age is 22, and it is True that I am married\n"
          ]
        }
      ]
    },
    {
      "cell_type": "code",
      "source": [
        "print(2+1)\n",
        "\n",
        "print(2-1)\n",
        "\n",
        "print(2*2)\n",
        "\n",
        "print(3/2)"
      ],
      "metadata": {
        "colab": {
          "base_uri": "https://localhost:8080/"
        },
        "id": "DC3MXOfkldh3",
        "outputId": "1f8096d4-ed07-4221-9ce5-411375f1df4c"
      },
      "execution_count": null,
      "outputs": [
        {
          "output_type": "stream",
          "name": "stdout",
          "text": [
            "3\n",
            "1\n",
            "4\n",
            "1.5\n"
          ]
        }
      ]
    },
    {
      "cell_type": "code",
      "source": [
        "2**3\n",
        "8\n",
        "2 + 10 * 10 + 3\n",
        "105\n",
        "(2+10) * (10+3)"
      ],
      "metadata": {
        "colab": {
          "base_uri": "https://localhost:8080/"
        },
        "id": "K62mqvLAlkuU",
        "outputId": "27365f2f-cdbb-4959-e4f7-8bf95943be20"
      },
      "execution_count": null,
      "outputs": [
        {
          "output_type": "execute_result",
          "data": {
            "text/plain": [
              "156"
            ]
          },
          "metadata": {},
          "execution_count": 23
        }
      ]
    },
    {
      "cell_type": "code",
      "source": [
        "a = 5\n",
        "a+a"
      ],
      "metadata": {
        "colab": {
          "base_uri": "https://localhost:8080/"
        },
        "id": "pnkhi37Ql0ut",
        "outputId": "6905fc9f-411c-454b-b783-2cdecba3858b"
      },
      "execution_count": null,
      "outputs": [
        {
          "output_type": "execute_result",
          "data": {
            "text/plain": [
              "10"
            ]
          },
          "metadata": {},
          "execution_count": 24
        }
      ]
    },
    {
      "cell_type": "code",
      "source": [
        "a=10\n",
        "a"
      ],
      "metadata": {
        "colab": {
          "base_uri": "https://localhost:8080/"
        },
        "id": "LQNdYAmel6th",
        "outputId": "27eb9040-0acb-4612-9968-f6575f980c59"
      },
      "execution_count": null,
      "outputs": [
        {
          "output_type": "execute_result",
          "data": {
            "text/plain": [
              "10"
            ]
          },
          "metadata": {},
          "execution_count": 26
        }
      ]
    },
    {
      "cell_type": "code",
      "source": [
        "a = 42\n",
        "b = 32.30\n",
        "print(type(a))\n",
        "print(type(b))\n"
      ],
      "metadata": {
        "colab": {
          "base_uri": "https://localhost:8080/"
        },
        "id": "L4zocNBDmCN9",
        "outputId": "39d5c41d-c579-41c8-d418-d75d510b5ecb"
      },
      "execution_count": null,
      "outputs": [
        {
          "output_type": "stream",
          "name": "stdout",
          "text": [
            "<class 'int'>\n",
            "<class 'float'>\n"
          ]
        }
      ]
    },
    {
      "cell_type": "code",
      "source": [
        "my_list = [1,2,3]\n",
        "my_list = ['A string',23,100.232,'o']\n",
        "len(my_list)"
      ],
      "metadata": {
        "colab": {
          "base_uri": "https://localhost:8080/"
        },
        "id": "FklCEeX8mKkG",
        "outputId": "fea55cf3-84de-460d-b078-52dcd2158f50"
      },
      "execution_count": null,
      "outputs": [
        {
          "output_type": "execute_result",
          "data": {
            "text/plain": [
              "4"
            ]
          },
          "metadata": {},
          "execution_count": 31
        }
      ]
    },
    {
      "cell_type": "code",
      "source": [
        "my_list = ['one','two','three',4,5]\n",
        "\n",
        "l = [1, 2.3, ['a', 'b'], 'New York']\n",
        "l.append(3.1)\n",
        "print(l)\n"
      ],
      "metadata": {
        "colab": {
          "base_uri": "https://localhost:8080/"
        },
        "id": "l5UhUroLmXms",
        "outputId": "6ba7a1da-af00-4c70-d3a9-980f4a115ba1"
      },
      "execution_count": null,
      "outputs": [
        {
          "output_type": "stream",
          "name": "stdout",
          "text": [
            "[1, 2.3, ['a', 'b'], 'New York', 3.1]\n"
          ]
        }
      ]
    },
    {
      "cell_type": "code",
      "source": [
        "l = [1, 2, 3]\n",
        "l.extend([4, 5, 6])\n",
        "print(l)"
      ],
      "metadata": {
        "colab": {
          "base_uri": "https://localhost:8080/"
        },
        "id": "7nPlDdUfni6X",
        "outputId": "d2db0881-8b59-4624-ce30-3dbf0795cf46"
      },
      "execution_count": null,
      "outputs": [
        {
          "output_type": "stream",
          "name": "stdout",
          "text": [
            "[1, 2, 3, 4, 5, 6]\n"
          ]
        }
      ]
    },
    {
      "cell_type": "code",
      "source": [
        "lst = list(range(10))\n",
        "print (lst)"
      ],
      "metadata": {
        "colab": {
          "base_uri": "https://localhost:8080/"
        },
        "id": "PYMSFZuTnnEd",
        "outputId": "a0462128-f6df-431a-dcd0-f29c866064ed"
      },
      "execution_count": null,
      "outputs": [
        {
          "output_type": "stream",
          "name": "stdout",
          "text": [
            "[0, 1, 2, 3, 4, 5, 6, 7, 8, 9]\n"
          ]
        }
      ]
    },
    {
      "cell_type": "code",
      "source": [
        "print(\"elements from index 4 to 7:\", lst[4:7])\n",
        "print(\"alternate elements, starting at index 0:\", lst[0::2])\n",
        "print(\"every third element, starting at index 1:\", lst[1::3])"
      ],
      "metadata": {
        "colab": {
          "base_uri": "https://localhost:8080/"
        },
        "id": "144Y_xlVn0Qf",
        "outputId": "5822e1aa-54b3-449a-9686-cc24e9a75215"
      },
      "execution_count": null,
      "outputs": [
        {
          "output_type": "stream",
          "name": "stdout",
          "text": [
            "elements from index 4 to 7: [4, 5, 6]\n",
            "alternate elements, starting at index 0: [0, 2, 4, 6, 8]\n",
            "every third element, starting at index 1: [1, 4, 7]\n"
          ]
        }
      ]
    },
    {
      "cell_type": "code",
      "source": [
        "my_dict = {'key1':'value1','key2':'value2'}\n",
        "\n",
        "my_dict['key2']"
      ],
      "metadata": {
        "colab": {
          "base_uri": "https://localhost:8080/",
          "height": 35
        },
        "id": "L5xXu29Kn9GQ",
        "outputId": "5ea4aa0d-0c44-4f4a-f973-0017f46dfddc"
      },
      "execution_count": null,
      "outputs": [
        {
          "output_type": "execute_result",
          "data": {
            "application/vnd.google.colaboratory.intrinsic+json": {
              "type": "string"
            },
            "text/plain": [
              "'value2'"
            ]
          },
          "metadata": {},
          "execution_count": 38
        }
      ]
    },
    {
      "cell_type": "code",
      "source": [
        "my_dict['key1']=123\n",
        "my_dict"
      ],
      "metadata": {
        "colab": {
          "base_uri": "https://localhost:8080/"
        },
        "id": "QzhTB_EloDhe",
        "outputId": "0749a02e-e3df-4688-a926-755d0e7f4b21"
      },
      "execution_count": null,
      "outputs": [
        {
          "output_type": "execute_result",
          "data": {
            "text/plain": [
              "{'key1': 123, 'key2': 'value2'}"
            ]
          },
          "metadata": {},
          "execution_count": 39
        }
      ]
    },
    {
      "cell_type": "code",
      "source": [
        "my_dict['key1'] = my_dict['key1'] - 123\n",
        "my_dict['key1']"
      ],
      "metadata": {
        "colab": {
          "base_uri": "https://localhost:8080/"
        },
        "id": "TF5NE_P8oKi4",
        "outputId": "98ca39a3-346b-49db-a05f-efa6479734c0"
      },
      "execution_count": null,
      "outputs": [
        {
          "output_type": "execute_result",
          "data": {
            "text/plain": [
              "0"
            ]
          },
          "metadata": {},
          "execution_count": 40
        }
      ]
    },
    {
      "cell_type": "code",
      "source": [
        "my_dict['key1'] -= 123\n",
        "my_dict['key1']"
      ],
      "metadata": {
        "colab": {
          "base_uri": "https://localhost:8080/"
        },
        "id": "1Vi2i0I3oR5q",
        "outputId": "e211ae3a-012c-4788-a7b3-541a03f6ff55"
      },
      "execution_count": null,
      "outputs": [
        {
          "output_type": "execute_result",
          "data": {
            "text/plain": [
              "-123"
            ]
          },
          "metadata": {},
          "execution_count": 41
        }
      ]
    },
    {
      "cell_type": "code",
      "source": [
        "x = set()\n",
        "x.add(1)\n",
        "x\n"
      ],
      "metadata": {
        "colab": {
          "base_uri": "https://localhost:8080/"
        },
        "id": "sWQ1eCBvoWzB",
        "outputId": "c8cd7bcf-2753-448b-ae31-dc9aafe789c1"
      },
      "execution_count": null,
      "outputs": [
        {
          "output_type": "execute_result",
          "data": {
            "text/plain": [
              "{1}"
            ]
          },
          "metadata": {},
          "execution_count": 50
        }
      ]
    },
    {
      "cell_type": "code",
      "source": [
        "x.add(2)\n",
        "x"
      ],
      "metadata": {
        "colab": {
          "base_uri": "https://localhost:8080/"
        },
        "id": "en8hbihxpDU-",
        "outputId": "81ef80ab-22a5-4fff-8037-e5806e156b4d"
      },
      "execution_count": null,
      "outputs": [
        {
          "output_type": "execute_result",
          "data": {
            "text/plain": [
              "{1, 2}"
            ]
          },
          "metadata": {},
          "execution_count": 51
        }
      ]
    },
    {
      "cell_type": "code",
      "source": [
        "x.add(1)\n",
        "x"
      ],
      "metadata": {
        "colab": {
          "base_uri": "https://localhost:8080/"
        },
        "id": "1eqVim26pG7V",
        "outputId": "2c808c04-18a6-4dd5-dc06-e661c27624df"
      },
      "execution_count": null,
      "outputs": [
        {
          "output_type": "execute_result",
          "data": {
            "text/plain": [
              "{1, 2}"
            ]
          },
          "metadata": {},
          "execution_count": 52
        }
      ]
    },
    {
      "cell_type": "code",
      "source": [
        "l = [1,1,2,2,3,4,5,6,1,1]\n",
        "set(l)"
      ],
      "metadata": {
        "colab": {
          "base_uri": "https://localhost:8080/"
        },
        "id": "rufTG0OQpNZq",
        "outputId": "ce00731f-0520-487f-e02a-4d13c1c0e1ee"
      },
      "execution_count": null,
      "outputs": [
        {
          "output_type": "execute_result",
          "data": {
            "text/plain": [
              "{1, 2, 3, 4, 5, 6}"
            ]
          },
          "metadata": {},
          "execution_count": 53
        }
      ]
    }
  ]
}